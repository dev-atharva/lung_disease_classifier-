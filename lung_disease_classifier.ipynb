{
  "nbformat": 4,
  "nbformat_minor": 0,
  "metadata": {
    "colab": {
      "name": "lung disease classifier.ipynb",
      "provenance": [],
      "collapsed_sections": []
    },
    "kernelspec": {
      "name": "python3",
      "display_name": "Python 3"
    },
    "accelerator": "GPU"
  },
  "cells": [
    {
      "cell_type": "code",
      "metadata": {
        "colab": {
          "resources": {
            "http://localhost:8080/nbextensions/google.colab/files.js": {
              "data": "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",
              "ok": true,
              "headers": [
                [
                  "content-type",
                  "application/javascript"
                ]
              ],
              "status": 200,
              "status_text": ""
            }
          },
          "base_uri": "https://localhost:8080/",
          "height": 90
        },
        "id": "gArJTScmI9xk",
        "outputId": "95113a19-6ebc-4336-bac9-d4764235c818"
      },
      "source": [
        "from google.colab import files\n",
        "\n",
        "files.upload()"
      ],
      "execution_count": null,
      "outputs": [
        {
          "output_type": "display_data",
          "data": {
            "text/html": [
              "\n",
              "     <input type=\"file\" id=\"files-62308fda-f17f-4cee-8ee3-1c92231bf418\" name=\"files[]\" multiple disabled\n",
              "        style=\"border:none\" />\n",
              "     <output id=\"result-62308fda-f17f-4cee-8ee3-1c92231bf418\">\n",
              "      Upload widget is only available when the cell has been executed in the\n",
              "      current browser session. Please rerun this cell to enable.\n",
              "      </output>\n",
              "      <script src=\"/nbextensions/google.colab/files.js\"></script> "
            ],
            "text/plain": [
              "<IPython.core.display.HTML object>"
            ]
          },
          "metadata": {
            "tags": []
          }
        },
        {
          "output_type": "stream",
          "text": [
            "Saving kaggle.json to kaggle.json\n"
          ],
          "name": "stdout"
        },
      ]
    },
    {
      "cell_type": "code",
      "metadata": {
        "id": "6oxPzZE3JXK4"
      },
      "source": [
        "! mkdir ~/.kaggle\n",
        "\n",
        "! cp kaggle.json ~/.kaggle/"
      ],
      "execution_count": null,
      "outputs": []
    },
    {
      "cell_type": "code",
      "metadata": {
        "id": "-Va1oZsPJe5y"
      },
      "source": [
        "! chmod 600 ~/.kaggle/kaggle.json"
      ],
      "execution_count": null,
      "outputs": []
    },
    {
      "cell_type": "code",
      "metadata": {
        "colab": {
          "base_uri": "https://localhost:8080/"
        },
        "id": "Udus_zLrJj0z",
        "outputId": "2441554b-b311-4b89-cf90-0fd25003b870"
      },
      "source": [
        "!kaggle datasets download -d tawsifurrahman/covid19-radiography-database"
      ],
      "execution_count": null,
      "outputs": [
        {
          "output_type": "stream",
          "text": [
            "Downloading covid19-radiography-database.zip to /content\n",
            " 98% 727M/745M [00:04<00:00, 214MB/s]\n",
            "100% 745M/745M [00:04<00:00, 181MB/s]\n"
          ],
          "name": "stdout"
        }
      ]
    },
    {
      "cell_type": "code",
      "metadata": {
        "colab": {
          "base_uri": "https://localhost:8080/"
        },
        "id": "WKZ21HzOJrX1",
        "outputId": "078139f6-ba72-444f-b044-fe96bd6fe6c2"
      },
      "source": [
        "!unzip covid19-radiography-database.zip"
      ],
      "execution_count": null,
    },
    {
      "cell_type": "code",
      "metadata": {
        "id": "UJETsdnKJ5H1"
      },
      "source": [
        "#importing dependencies \n",
        "import numpy as np\n",
        "import pandas as pd\n",
        "import os\n",
        "import matplotlib.pyplot as plt\n",
        "import tensorflow as tf\n",
        "import keras\n",
        "from keras import layers\n",
        "from keras.layers import Dense,Dropout,Activation,Add,MaxPooling2D,Conv2D,Flatten\n",
        "from keras.models import Sequential \n",
        "from keras.models import *\n",
        "from keras.preprocessing import image"
      ],
      "execution_count": null,
      "outputs": []
    },
    {
      "cell_type": "code",
      "metadata": {
        "id": "atAPBfbRhKtG"
      },
      "source": [
        "import shutil\n",
        "\n",
        "dir_path = '/content/COVID-19_Radiography_Dataset/Lung_Opacity'\n",
        "\n",
        "try:\n",
        "    shutil.rmtree(dir_path)\n",
        "except OSError as e:\n",
        "    print(\"Error: %s : %s\" % (dir_path, e.strerror))"
      ],
      "execution_count": null,
      "outputs": []
    },
    {
      "cell_type": "code",
      "metadata": {
        "id": "kpJPSy7ehMbn"
      },
      "source": [
        ""
      ],
      "execution_count": null,
      "outputs": []
    },
    {
      "cell_type": "code",
      "metadata": {
        "colab": {
          "base_uri": "https://localhost:8080/"
        },
        "id": "_oVn9oQEJ8dv",
        "outputId": "e2e4cbde-1a83-4c7a-e915-111e5dbbb1ac"
      },
      "source": [
        "#dividing the data in training and validation\n",
        "train_data = defect_tree = tf.keras.preprocessing.image_dataset_from_directory(\n",
        "    '/content/COVID-19_Radiography_Dataset',\n",
        "    labels=\"inferred\",\n",
        "    label_mode=\"int\",\n",
        "    class_names=None,\n",
        "    color_mode=\"rgb\",\n",
        "    batch_size=32,\n",
        "    image_size=(244, 244),\n",
        "    shuffle=True,\n",
        "    seed=123,\n",
        "    validation_split=0.01,\n",
        "    subset=\"training\",\n",
        "    interpolation=\"bilinear\",\n",
        "    follow_links=False,\n",
        ")\n",
        "test_data = tf.keras.preprocessing.image_dataset_from_directory(\n",
        "    '/content/COVID-19_Radiography_Dataset',\n",
        "    labels=\"inferred\",\n",
        "    label_mode=\"int\",\n",
        "    class_names=None,\n",
        "    color_mode=\"rgb\",\n",
        "    batch_size=32,\n",
        "    image_size=(244, 244),\n",
        "    shuffle=True,\n",
        "    seed=123,\n",
        "    validation_split=0.2,\n",
        "    subset=\"validation\",\n",
        "    interpolation=\"bilinear\",\n",
        "    follow_links=False,\n",
        ")\n",
        "      "
      ],
      "execution_count": null,
      "outputs": [
        {
          "output_type": "stream",
          "text": [
            "Found 15153 files belonging to 3 classes.\n",
            "Using 15002 files for training.\n",
            "Found 15153 files belonging to 3 classes.\n",
            "Using 3030 files for validation.\n"
          ],
          "name": "stdout"
        }
      ]
    },
    {
      "cell_type": "code",
      "metadata": {
        "id": "OhOs_NmIKRcj"
      },
      "source": [
        "#design of cnn model \n",
        "model = tf.keras.models.Sequential([\n",
        "  layers.BatchNormalization(),\n",
        "  layers.Conv2D(32, 3, activation='relu'),\n",
        "  layers.MaxPooling2D(),\n",
        "  layers.Conv2D(64, 3, activation='relu'),\n",
        "  layers.MaxPooling2D(),\n",
        "  layers.Dropout(0.3),\n",
        "  layers.Conv2D(128, 3, activation='relu'),\n",
        "  layers.MaxPooling2D(),\n",
        "  layers.Dropout(0.2),\n",
        "  layers.Flatten(),\n",
        "  layers.Dense(256, activation='relu'),\n",
        "  layers.Dropout(0.15),\n",
        "  layers.Dense(3, activation= 'softmax')\n",
        "])"
      ],
      "execution_count": null,
      "outputs": []
    },
    {
      "cell_type": "code",
      "metadata": {
        "id": "a2ZwA7YxLFE9"
      },
      "source": [
        "model.compile(optimizer='adam',loss='sparse_categorical_crossentropy', metrics=['accuracy'])"
      ],
      "execution_count": null,
      "outputs": []
    },
    {
      "cell_type": "code",
      "metadata": {
        "id": "W9VyrNEAfShg"
      },
      "source": [
        "#defining early stopping to avoid over fitting\n",
        "early = tf.keras.callbacks.EarlyStopping(monitor='val_loss',patience=5)\n"
      ],
      "execution_count": null,
      "outputs": []
    },
    {
      "cell_type": "code",
      "metadata": {
        "colab": {
          "base_uri": "https://localhost:8080/"
        },
        "id": "bsGiNS2RL352",
        "outputId": "20139232-dff0-4167-af47-192e1e1483ba"
      },
      "source": [
        "classifier=model.fit(train_data,validation_data= test_data,batch_size=32,epochs = 15,callbacks=[early])"
      ],
      "execution_count": null,
      "outputs": [
        {
          "output_type": "stream",
          "text": [
            "Epoch 1/15\n",
            "469/469 [==============================] - 94s 199ms/step - loss: 0.4037 - accuracy: 0.8586 - val_loss: 0.1704 - val_accuracy: 0.9495\n",
            "Epoch 2/15\n",
            "469/469 [==============================] - 92s 196ms/step - loss: 0.1740 - accuracy: 0.9337 - val_loss: 0.1056 - val_accuracy: 0.9630\n",
            "Epoch 3/15\n",
            "469/469 [==============================] - 92s 195ms/step - loss: 0.1133 - accuracy: 0.9581 - val_loss: 0.0694 - val_accuracy: 0.9795\n",
            "Epoch 4/15\n",
            "469/469 [==============================] - 92s 195ms/step - loss: 0.0851 - accuracy: 0.9687 - val_loss: 0.0338 - val_accuracy: 0.9911\n",
            "Epoch 5/15\n",
            "469/469 [==============================] - 92s 196ms/step - loss: 0.0614 - accuracy: 0.9773 - val_loss: 0.0349 - val_accuracy: 0.9931\n",
            "Epoch 6/15\n",
            "469/469 [==============================] - 92s 195ms/step - loss: 0.0418 - accuracy: 0.9846 - val_loss: 0.0194 - val_accuracy: 0.9944\n",
            "Epoch 7/15\n",
            "469/469 [==============================] - 92s 195ms/step - loss: 0.0397 - accuracy: 0.9853 - val_loss: 0.0108 - val_accuracy: 0.9970\n",
            "Epoch 8/15\n",
            "469/469 [==============================] - 92s 196ms/step - loss: 0.0288 - accuracy: 0.9903 - val_loss: 0.0108 - val_accuracy: 0.9980\n",
            "Epoch 9/15\n",
            "469/469 [==============================] - 92s 194ms/step - loss: 0.0230 - accuracy: 0.9917 - val_loss: 0.0111 - val_accuracy: 0.9977\n",
            "Epoch 10/15\n",
            "469/469 [==============================] - 92s 194ms/step - loss: 0.0286 - accuracy: 0.9907 - val_loss: 0.0324 - val_accuracy: 0.9904\n",
            "Epoch 11/15\n",
            "469/469 [==============================] - 92s 195ms/step - loss: 0.0315 - accuracy: 0.9903 - val_loss: 0.0115 - val_accuracy: 0.9967\n",
            "Epoch 12/15\n",
            "469/469 [==============================] - 92s 195ms/step - loss: 0.0205 - accuracy: 0.9929 - val_loss: 0.0283 - val_accuracy: 0.9960\n"
          ],
          "name": "stdout"
        }
      ]
    },
    {
      "cell_type": "code",
      "metadata": {
        "colab": {
          "base_uri": "https://localhost:8080/",
          "height": 195
        },
        "id": "NqADE-0SB0SU",
        "outputId": "16031dea-0a9c-4119-ce1b-8ef5e852bb47"
      },
      "source": [
        "losses=pd.DataFrame(model.history.history)\n",
        "\n",
        "losses.head()"
      ],
      "execution_count": null,
      "outputs": [
        {
          "output_type": "execute_result",
          "data": {
            "text/html": [
              "<div>\n",
              "<style scoped>\n",
              "    .dataframe tbody tr th:only-of-type {\n",
              "        vertical-align: middle;\n",
              "    }\n",
              "\n",
              "    .dataframe tbody tr th {\n",
              "        vertical-align: top;\n",
              "    }\n",
              "\n",
              "    .dataframe thead th {\n",
              "        text-align: right;\n",
              "    }\n",
              "</style>\n",
              "<table border=\"1\" class=\"dataframe\">\n",
              "  <thead>\n",
              "    <tr style=\"text-align: right;\">\n",
              "      <th></th>\n",
              "      <th>loss</th>\n",
              "      <th>accuracy</th>\n",
              "      <th>val_loss</th>\n",
              "      <th>val_accuracy</th>\n",
              "    </tr>\n",
              "  </thead>\n",
              "  <tbody>\n",
              "    <tr>\n",
              "      <th>0</th>\n",
              "      <td>0.403671</td>\n",
              "      <td>0.858619</td>\n",
              "      <td>0.170415</td>\n",
              "      <td>0.949505</td>\n",
              "    </tr>\n",
              "    <tr>\n",
              "      <th>1</th>\n",
              "      <td>0.174017</td>\n",
              "      <td>0.933676</td>\n",
              "      <td>0.105614</td>\n",
              "      <td>0.963036</td>\n",
              "    </tr>\n",
              "    <tr>\n",
              "      <th>2</th>\n",
              "      <td>0.113338</td>\n",
              "      <td>0.958072</td>\n",
              "      <td>0.069374</td>\n",
              "      <td>0.979538</td>\n",
              "    </tr>\n",
              "    <tr>\n",
              "      <th>3</th>\n",
              "      <td>0.085056</td>\n",
              "      <td>0.968671</td>\n",
              "      <td>0.033783</td>\n",
              "      <td>0.991089</td>\n",
              "    </tr>\n",
              "    <tr>\n",
              "      <th>4</th>\n",
              "      <td>0.061362</td>\n",
              "      <td>0.977336</td>\n",
              "      <td>0.034860</td>\n",
              "      <td>0.993069</td>\n",
              "    </tr>\n",
              "  </tbody>\n",
              "</table>\n",
              "</div>"
            ],
            "text/plain": [
              "       loss  accuracy  val_loss  val_accuracy\n",
              "0  0.403671  0.858619  0.170415      0.949505\n",
              "1  0.174017  0.933676  0.105614      0.963036\n",
              "2  0.113338  0.958072  0.069374      0.979538\n",
              "3  0.085056  0.968671  0.033783      0.991089\n",
              "4  0.061362  0.977336  0.034860      0.993069"
            ]
          },
          "metadata": {
            "tags": []
          },
          "execution_count": 14
        }
      ]
    },
    {
      "cell_type": "code",
      "metadata": {
        "colab": {
          "base_uri": "https://localhost:8080/"
        },
        "id": "ADjBaYe3_VjN",
        "outputId": "7b3b1eac-17a8-4728-ad28-de68fb8681cb"
      },
      "source": [
        "model.summary()"
      ],
      "execution_count": null,
      "outputs": [
        {
          "output_type": "stream",
          "text": [
            "Model: \"sequential\"\n",
            "_________________________________________________________________\n",
            "Layer (type)                 Output Shape              Param #   \n",
            "=================================================================\n",
            "batch_normalization (BatchNo (None, 244, 244, 3)       12        \n",
            "_________________________________________________________________\n",
            "conv2d (Conv2D)              (None, 242, 242, 32)      896       \n",
            "_________________________________________________________________\n",
            "max_pooling2d (MaxPooling2D) (None, 121, 121, 32)      0         \n",
            "_________________________________________________________________\n",
            "conv2d_1 (Conv2D)            (None, 119, 119, 64)      18496     \n",
            "_________________________________________________________________\n",
            "max_pooling2d_1 (MaxPooling2 (None, 59, 59, 64)        0         \n",
            "_________________________________________________________________\n",
            "dropout (Dropout)            (None, 59, 59, 64)        0         \n",
            "_________________________________________________________________\n",
            "conv2d_2 (Conv2D)            (None, 57, 57, 128)       73856     \n",
            "_________________________________________________________________\n",
            "max_pooling2d_2 (MaxPooling2 (None, 28, 28, 128)       0         \n",
            "_________________________________________________________________\n",
            "dropout_1 (Dropout)          (None, 28, 28, 128)       0         \n",
            "_________________________________________________________________\n",
            "flatten (Flatten)            (None, 100352)            0         \n",
            "_________________________________________________________________\n",
            "dense (Dense)                (None, 256)               25690368  \n",
            "_________________________________________________________________\n",
            "dropout_2 (Dropout)          (None, 256)               0         \n",
            "_________________________________________________________________\n",
            "dense_1 (Dense)              (None, 3)                 771       \n",
            "=================================================================\n",
            "Total params: 25,784,399\n",
            "Trainable params: 25,784,393\n",
            "Non-trainable params: 6\n",
            "_________________________________________________________________\n"
          ],
          "name": "stdout"
        }
      ]
    },
    {
      "cell_type": "code",
      "metadata": {
        "colab": {
          "base_uri": "https://localhost:8080/",
          "height": 258
        },
        "id": "tRaQCJELB7fn",
        "outputId": "a7b12005-2c4b-411d-f8cc-dc8c1edef244"
      },
      "source": [
        "plt.figure(figsize=(10,3))\n",
        "losses[\"accuracy\"].plot(label=\"accuracy\")\n",
        "\n",
        "losses[\"val_accuracy\"].plot(label=\"Val_accuracy\")\n",
        "plt.title(\"Accuracy and validation accuracy\")\n",
        "plt.xlabel(xlabel=\"epochs\")\n",
        "plt.ylabel(ylabel=\"Accuracy\")\n",
        "plt.legend()"
      ],
      "execution_count": null,
      "outputs": [
        {
          "output_type": "execute_result",
          "data": {
            "text/plain": [
              "<matplotlib.legend.Legend at 0x7f22b00c4c50>"
            ]
          },
          "metadata": {
            "tags": []
          },
          "execution_count": 17
        },
        {
          "output_type": "display_data",
          "data": {
            "image/png": "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\n",
            "text/plain": [
              "<Figure size 720x216 with 1 Axes>"
            ]
          },
          "metadata": {
            "tags": [],
            "needs_background": "light"
          }
        }
      ]
    },
    {
      "cell_type": "code",
      "metadata": {
        "colab": {
          "base_uri": "https://localhost:8080/",
          "height": 258
        },
        "id": "xxTsO7h7YQam",
        "outputId": "22feeedc-0167-470e-f881-6c951299de25"
      },
      "source": [
        "plt.figure(figsize=(10,3))\n",
        "losses[\"loss\"].plot(label=\"Loss\")\n",
        "\n",
        "losses[\"val_loss\"].plot(label=\"Validation_loss\")\n",
        "plt.title(\"loss and validation loss\")\n",
        "plt.xlabel(xlabel=\"epochs\")\n",
        "plt.ylabel(ylabel=\"loss\")\n",
        "plt.legend()"
      ],
      "execution_count": null,
      "outputs": [
        {
          "output_type": "execute_result",
          "data": {
            "text/plain": [
              "<matplotlib.legend.Legend at 0x7f22781afdd0>"
            ]
          },
          "metadata": {
            "tags": []
          },
          "execution_count": 18
        },
        {
          "output_type": "display_data",
          "data": {
            "image/png": "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\n",
            "text/plain": [
              "<Figure size 720x216 with 1 Axes>"
            ]
          },
          "metadata": {
            "tags": [],
            "needs_background": "light"
          }
        }
      ]
    },
    {
      "cell_type": "code",
      "metadata": {
        "id": "UUVOHNJZCtfp"
      },
      "source": [
        "model.save(\"Lung disease classifier.h5\")\n",
        "\n"
      ],
      "execution_count": null,
      "outputs": []
    },
    {
      "cell_type": "code",
      "metadata": {
        "id": "Sw4SEs2fYP7w"
      },
      "source": [
        "from keras.models import load_model \n",
        "import tensorflow as tf\n"
      ],
      "execution_count": null,
      "outputs": []
    },
    {
      "cell_type": "code",
      "metadata": {
        "id": "y8UOrCLeMBLg"
      },
      "source": [
        "image_path=\"/content/COVID-19_Radiography_Dataset/Viral Pneumonia/Viral Pneumonia-1004.png\"\n",
        "img = image.load_img(image_path, target_size=(244, 244))\n",
        "img_array = image.img_to_array(img)\n",
        "img_batch = np.expand_dims(img_array, axis=0)\n",
        "\n",
        "prediction = model.predict(img_batch)\n"
      ],
      "execution_count": null,
      "outputs": []
    },
    {
      "cell_type": "code",
      "metadata": {
        "colab": {
          "base_uri": "https://localhost:8080/"
        },
        "id": "hhGNT1tlPAWJ",
        "outputId": "34a91738-89f2-430e-abce-b136d53c109e"
      },
      "source": [
        "\n",
        "def mapping(prediction):\n",
        "  if np.argmax(prediction)==0:\n",
        "    print(\"Covid\")\n",
        "  if np.argmax(prediction)==1:\n",
        "    print(\"Healthy\")\n",
        "  if np.argmax(prediction)==2:\n",
        "    print(\"Pneumonia\") \n",
        "\n",
        "result=mapping(prediction)\n",
        "#print(result)"
      ],
      "execution_count": null,
      "outputs": [
        {
          "output_type": "stream",
          "text": [
            "Pneumonia\n"
          ],
          "name": "stdout"
        }
      ]
    },
    {
      "cell_type": "code",
      "metadata": {
        "colab": {
          "base_uri": "https://localhost:8080/"
        },
        "id": "O42jkbUYZUcM",
        "outputId": "94c8e1f7-941e-474c-a587-bcb964665b06"
      },
      "source": [
        "model=load_model(\"Lung disese classifier.h5\")\n",
        "converter=tf.lite.TFLiteConverter.from_keras_model(model)\n",
        "tflite_model=converter.convert()\n",
        "with open(\"model.tflite\",\"wb\") as f:\n",
        "  f.write(tflite_model)"
      ],
      "execution_count": null,
      "outputs": [
        {
          "output_type": "stream",
          "text": [
            "INFO:tensorflow:Assets written to: /tmp/tmpqtzlc2wf/assets\n"
          ],
          "name": "stdout"
        }
      ]
    }
  ]
}
